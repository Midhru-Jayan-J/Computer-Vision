{
 "cells": [
  {
   "cell_type": "code",
   "execution_count": 1,
   "metadata": {},
   "outputs": [],
   "source": [
    "import cv2"
   ]
  },
  {
   "cell_type": "code",
   "execution_count": 2,
   "metadata": {},
   "outputs": [],
   "source": [
    "img1_path=\"people1.jpg\"\n",
    "img1=cv2.imread(img1_path)\n"
   ]
  },
  {
   "cell_type": "code",
   "execution_count": 3,
   "metadata": {},
   "outputs": [
    {
     "data": {
      "text/plain": [
       "(1280, 1920, 3)"
      ]
     },
     "execution_count": 3,
     "metadata": {},
     "output_type": "execute_result"
    }
   ],
   "source": [
    "img1.shape\n"
   ]
  },
  {
   "cell_type": "code",
   "execution_count": 4,
   "metadata": {},
   "outputs": [],
   "source": [
    "cv2.imshow('peoples image',img1)\n",
    "cv2.waitKey(0)\n",
    "cv2.destroyAllWindows()"
   ]
  },
  {
   "cell_type": "code",
   "execution_count": 5,
   "metadata": {},
   "outputs": [
    {
     "data": {
      "text/plain": [
       "(600, 800, 3)"
      ]
     },
     "execution_count": 5,
     "metadata": {},
     "output_type": "execute_result"
    }
   ],
   "source": [
    "img1=cv2.resize(img1,(800,600))\n",
    "img1.shape"
   ]
  },
  {
   "cell_type": "code",
   "execution_count": 6,
   "metadata": {},
   "outputs": [],
   "source": [
    "cv2.imshow('peoples image',img1)\n",
    "cv2.waitKey(0)\n",
    "cv2.destroyAllWindows()"
   ]
  },
  {
   "cell_type": "code",
   "execution_count": 7,
   "metadata": {},
   "outputs": [],
   "source": [
    "img1_gray=cv2.cvtColor(img1,cv2.COLOR_BGR2GRAY)\n",
    "cv2.imshow('Gray img1',img1_gray)\n",
    "cv2.waitKey(0)\n",
    "cv2.destroyAllWindows()"
   ]
  },
  {
   "cell_type": "markdown",
   "metadata": {},
   "source": [
    "### Cascading"
   ]
  },
  {
   "cell_type": "code",
   "execution_count": 53,
   "metadata": {},
   "outputs": [],
   "source": [
    "face_detector=cv2.CascadeClassifier('haarcascade_frontalface_default.xml')\n",
    "face_detections=face_detector.detectMultiScale(img1_gray)"
   ]
  },
  {
   "cell_type": "code",
   "execution_count": 54,
   "metadata": {},
   "outputs": [
    {
     "data": {
      "text/plain": [
       "array([[390, 323,  56,  56],\n",
       "       [677,  72,  68,  68],\n",
       "       [387, 233,  73,  73],\n",
       "       [ 92, 239,  66,  66],\n",
       "       [115, 124,  53,  53],\n",
       "       [475, 123,  59,  59]])"
      ]
     },
     "execution_count": 54,
     "metadata": {},
     "output_type": "execute_result"
    }
   ],
   "source": [
    "face_detections"
   ]
  },
  {
   "cell_type": "code",
   "execution_count": 55,
   "metadata": {},
   "outputs": [
    {
     "data": {
      "text/plain": [
       "6"
      ]
     },
     "execution_count": 55,
     "metadata": {},
     "output_type": "execute_result"
    }
   ],
   "source": [
    "len(face_detections)"
   ]
  },
  {
   "cell_type": "code",
   "execution_count": 11,
   "metadata": {},
   "outputs": [],
   "source": [
    "for (x,y,w,h)in face_detections:\n",
    "    cv2.rectangle(img1,(x,y),(x+w,y+h),(0,255,255),3)\n",
    "cv2.imshow('Face detected',img1)\n",
    "cv2.waitKey(0)\n",
    "cv2.destroyAllWindows() "
   ]
  },
  {
   "cell_type": "markdown",
   "metadata": {},
   "source": [
    "### Haarcascade parameter finetuning"
   ]
  },
  {
   "cell_type": "code",
   "execution_count": 50,
   "metadata": {},
   "outputs": [],
   "source": [
    "face_detections_finetuned=face_detector.detectMultiScale(img1_gray,scaleFactor=1.09)\n"
   ]
  },
  {
   "cell_type": "code",
   "execution_count": 51,
   "metadata": {},
   "outputs": [
    {
     "data": {
      "text/plain": [
       "5"
      ]
     },
     "execution_count": 51,
     "metadata": {},
     "output_type": "execute_result"
    }
   ],
   "source": [
    "len(face_detections_finetuned)\n"
   ]
  },
  {
   "cell_type": "code",
   "execution_count": 52,
   "metadata": {},
   "outputs": [
    {
     "name": "stdout",
     "output_type": "stream",
     "text": [
      "386 232 74 74\n",
      "678 74 65 65\n",
      "113 122 56 56\n",
      "475 122 60 60\n",
      "90 238 69 69\n"
     ]
    }
   ],
   "source": [
    "img1=cv2.imread(img1_path)\n",
    "img1=cv2.resize(img1,(800,600))\n",
    "for (x,y,w,h)in face_detections_finetuned:\n",
    "    print(x,y,w,h)\n",
    "    cv2.rectangle(img1,(x,y),(x+w,y+h),(0,255,255),3)\n",
    "cv2.imshow('Face detected 1',img1)\n",
    "cv2.waitKey(0)\n",
    "cv2.destroyAllWindows() "
   ]
  },
  {
   "cell_type": "code",
   "execution_count": 18,
   "metadata": {},
   "outputs": [
    {
     "data": {
      "text/plain": [
       "(537, 1023, 3)"
      ]
     },
     "execution_count": 18,
     "metadata": {},
     "output_type": "execute_result"
    }
   ],
   "source": [
    "img2_path=\"people2.jpg\"\n",
    "img2=cv2.imread(img2_path)\n",
    "img2.shape\n"
   ]
  },
  {
   "cell_type": "code",
   "execution_count": 19,
   "metadata": {},
   "outputs": [],
   "source": [
    "cv2.imshow('People 2',img2)\n",
    "cv2.waitKey(0)\n",
    "cv2.destroyAllWindows()"
   ]
  },
  {
   "cell_type": "code",
   "execution_count": 21,
   "metadata": {},
   "outputs": [
    {
     "data": {
      "text/plain": [
       "14"
      ]
     },
     "execution_count": 21,
     "metadata": {},
     "output_type": "execute_result"
    }
   ],
   "source": [
    "img2_gray=cv2.cvtColor(img2,cv2.COLOR_BGR2GRAY)\n",
    "face_detections_2=face_detector.detectMultiScale(img2_gray)\n",
    "len(face_detections_2)"
   ]
  },
  {
   "cell_type": "code",
   "execution_count": 24,
   "metadata": {},
   "outputs": [],
   "source": [
    "for (x,y,w,h)in face_detections_2:\n",
    "    cv2.rectangle(img2,(x,y),(x+w,y+h),(0,255,0),3)\n",
    "cv2.imshow('Faces detected 2',img2)\n",
    "cv2.waitKey(0)\n",
    "cv2.destroyAllWindows() "
   ]
  },
  {
   "cell_type": "code",
   "execution_count": 34,
   "metadata": {},
   "outputs": [
    {
     "data": {
      "text/plain": [
       "10"
      ]
     },
     "execution_count": 34,
     "metadata": {},
     "output_type": "execute_result"
    }
   ],
   "source": [
    "face_detections2_finetuned=face_detector.detectMultiScale(img2_gray,scaleFactor=1.2,minNeighbors=9)\n",
    "len(face_detections2_finetuned)"
   ]
  },
  {
   "cell_type": "code",
   "execution_count": 36,
   "metadata": {},
   "outputs": [],
   "source": [
    "img2=cv2.imread(img2_path)\n",
    "for (x,y,w,h)in face_detections2_finetuned:\n",
    "    cv2.rectangle(img2,(x,y),(x+w,y+h),(0,255,0),3)\n",
    "cv2.imshow('Faces detected 2',img2)\n",
    "cv2.waitKey(0)\n",
    "cv2.destroyAllWindows() "
   ]
  },
  {
   "cell_type": "markdown",
   "metadata": {},
   "source": [
    "### Eye Detector"
   ]
  },
  {
   "cell_type": "code",
   "execution_count": 59,
   "metadata": {},
   "outputs": [],
   "source": [
    "eye_detector=cv2.CascadeClassifier('haarcascade_eye.xml')\n",
    "eye_detections=eye_detector.detectMultiScale(img1_gray,scaleFactor=1.1)"
   ]
  },
  {
   "cell_type": "code",
   "execution_count": 61,
   "metadata": {},
   "outputs": [],
   "source": [
    "img1=cv2.imread(img1_path)\n",
    "img1=cv2.resize(img1,(800,600))\n",
    "for (x,y,w,h)in eye_detections:\n",
    "    cv2.rectangle(img1,(x,y),(x+w,y+h),(0,255,255),3)\n",
    "\n",
    "for (x,y,w,h)in face_detections_finetuned:\n",
    "    cv2.rectangle(img1,(x,y),(x+w,y+h),(0,255,0),3)\n",
    "\n",
    "cv2.imshow('Face detected 1',img1)\n",
    "cv2.waitKey(0)\n",
    "cv2.destroyAllWindows() "
   ]
  },
  {
   "cell_type": "code",
   "execution_count": null,
   "metadata": {},
   "outputs": [],
   "source": []
  }
 ],
 "metadata": {
  "kernelspec": {
   "display_name": "base",
   "language": "python",
   "name": "python3"
  },
  "language_info": {
   "codemirror_mode": {
    "name": "ipython",
    "version": 3
   },
   "file_extension": ".py",
   "mimetype": "text/x-python",
   "name": "python",
   "nbconvert_exporter": "python",
   "pygments_lexer": "ipython3",
   "version": "3.11.7"
  }
 },
 "nbformat": 4,
 "nbformat_minor": 2
}
